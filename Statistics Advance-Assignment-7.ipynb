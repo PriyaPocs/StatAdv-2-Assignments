{
 "cells": [
  {
   "cell_type": "markdown",
   "id": "08bd9473-3c09-4f15-8089-70e4240648d5",
   "metadata": {},
   "source": [
    "Q1. Write a Python function that takes in two arrays of data and calculates the F-value for a variance ratio test. The function should return the F-value and the corresponding p-value for the test.\n",
    "\n",
    "\n",
    "Answer(Q1):\n",
    "\n"
   ]
  },
  {
   "cell_type": "code",
   "execution_count": 1,
   "id": "34c05719-18cc-490f-9f0e-65c76c5daf7a",
   "metadata": {},
   "outputs": [
    {
     "name": "stdout",
     "output_type": "stream",
     "text": [
      "F-value: 0.4444444444444444\n",
      "p-value: 0.5237424355470287\n"
     ]
    }
   ],
   "source": [
    "import numpy as np\n",
    "from scipy.stats import f_oneway\n",
    "\n",
    "def variance_ratio_test(array1, array2):\n",
    "    \"\"\"\n",
    "    Calculates the F-value and p-value for a variance ratio test (F-test).\n",
    "\n",
    "    Parameters:\n",
    "        array1 (array-like): First array of data.\n",
    "        array2 (array-like): Second array of data.\n",
    "\n",
    "    Returns:\n",
    "        f_value (float): The F-value calculated for the variance ratio test.\n",
    "        p_value (float): The p-value associated with the F-value.\n",
    "    \"\"\"\n",
    "    # Convert arrays to NumPy arrays to ensure compatibility with the f_oneway function\n",
    "    array1 = np.asarray(array1)\n",
    "    array2 = np.asarray(array2)\n",
    "\n",
    "    # Perform the variance ratio test (F-test)\n",
    "    f_value, p_value = f_oneway(array1, array2)\n",
    "\n",
    "    return f_value, p_value\n",
    "\n",
    "# Example usage:\n",
    "array1 = [12, 15, 18, 21, 24]\n",
    "array2 = [10, 13, 16, 19, 22]\n",
    "f_value, p_value = variance_ratio_test(array1, array2)\n",
    "print(\"F-value:\", f_value)\n",
    "print(\"p-value:\", p_value)\n"
   ]
  },
  {
   "cell_type": "markdown",
   "id": "1cb57a24-01ad-4d5a-a84f-e0504710e25f",
   "metadata": {},
   "source": [
    "Q2. Given a significance level of 0.05 and the degrees of freedom for the numerator and denominator of an F-distribution, write a Python function that returns the critical F-value for a two-tailed test.\n",
    "\n",
    "\n",
    "Answer(Q2):\n",
    "\n",
    "To calculate the critical F-value for a two-tailed test given a significance level (alpha) and the degrees of freedom for the numerator (df_num) and denominator (df_den) of an F-distribution, you can use the `scipy.stats.f.ppf` function from the SciPy library. This function calculates the percent point function (inverse of the cumulative distribution function) for the F-distribution. Here's the Python function to achieve this:\n",
    "\n"
   ]
  },
  {
   "cell_type": "code",
   "execution_count": null,
   "id": "be140753-1522-43b6-9a05-cdfc8d0c6542",
   "metadata": {},
   "outputs": [],
   "source": [
    "from scipy.stats import f\n",
    "\n",
    "def critical_f_value(alpha, df_num, df_den):\n",
    "    \"\"\"\n",
    "    Calculates the critical F-value for a two-tailed test.\n",
    "\n",
    "    Parameters:\n",
    "        alpha (float): The significance level (e.g., 0.05).\n",
    "        df_num (int): Degrees of freedom for the numerator.\n",
    "        df_den (int): Degrees of freedom for the denominator.\n",
    "\n",
    "    Returns:\n",
    "        critical_f (float): The critical F-value for the two-tailed test.\n",
    "    \"\"\"\n",
    "    # Calculate the critical F-value using the percent point function (ppf)\n",
    "    critical_f = f.ppf(1 - alpha / 2, df_num, df_den)\n",
    "\n",
    "    return critical_f\n",
    "\n",
    "# Example usage:\n",
    "alpha = 0.05\n",
    "df_num = 3\n",
    "df_den = 10\n",
    "critical_f = critical_f_value(alpha, df_num, df_den)\n",
    "print(\"Critical F-value:\", critical_f)\n",
    "\n"
   ]
  },
  {
   "cell_type": "markdown",
   "id": "ad4b28a7-9187-4dbe-a355-7a0ddc9322fe",
   "metadata": {},
   "source": [
    "\n",
    "In this function, we use the `f.ppf` function from SciPy to calculate the critical F-value. The `ppf` function takes the significance level (alpha) and the degrees of freedom for the numerator and denominator of the F-distribution as input and returns the critical F-value for a two-tailed test at the specified significance level.\n",
    "\n",
    "Remember that in a two-tailed test, we are interested in extreme values in both tails of the F-distribution, so we divide the significance level (alpha) by 2 and calculate the critical value corresponding to the upper (1 - alpha/2) percentile of the F-distribution.\n"
   ]
  },
  {
   "cell_type": "markdown",
   "id": "1d3baaf6-225e-40f3-b184-ef62ffb6031b",
   "metadata": {},
   "source": [
    "Q3. Write a Python program that generates random samples from two normal distributions with known variances and uses an F-test to determine if the variances are equal. The program should output the F- value, degrees of freedom, and p-value for the test.\n",
    "\n",
    "Answer(Q3):\n",
    "\n"
   ]
  },
  {
   "cell_type": "code",
   "execution_count": 2,
   "id": "3aec9f03-e3cd-4d5a-97f5-4ca64d2a2ff9",
   "metadata": {},
   "outputs": [
    {
     "name": "stdout",
     "output_type": "stream",
     "text": [
      "Sample 1: [10.04535144  8.82799009 11.8341046  11.05411394 11.684784    8.85679755\n",
      " 11.5216926  12.26906331  8.12165365 13.19808172 11.37876793  7.9639177\n",
      " 12.59228183 11.67897429 10.22714093  8.35277509 10.13907411 11.53243316\n",
      "  7.22420748  8.63303     9.38318831  7.92129659 10.18776994 13.38909\n",
      "  6.35046546  7.35993439  8.13807856  9.75062425  7.82157408 12.63815648]\n",
      "Sample 2: [10.02897966 13.43769978 10.03481566 13.07823927  5.75483299 11.28431964\n",
      " 13.5440952  10.29987165  7.71937922 13.48440848 10.459518    9.70325276\n",
      " 10.59805544 11.3159792  12.11389254 11.6083215   8.27470508 13.16349339\n",
      " 10.03056273 10.65353641  9.11588706  9.40039739  8.89730523 13.34986051\n",
      "  9.88936119]\n",
      "F-value: 0.9812675612790575\n",
      "Degrees of freedom (numerator): 29\n",
      "Degrees of freedom (denominator): 24\n",
      "p-value: 1.0481244887211334\n"
     ]
    }
   ],
   "source": [
    "import numpy as np\n",
    "from scipy.stats import f\n",
    "\n",
    "def generate_samples(mean1, variance1, size1, mean2, variance2, size2):\n",
    "    \"\"\"\n",
    "    Generates random samples from two normal distributions with known variances.\n",
    "\n",
    "    Parameters:\n",
    "        mean1 (float): Mean of the first normal distribution.\n",
    "        variance1 (float): Variance of the first normal distribution.\n",
    "        size1 (int): Number of samples to generate from the first distribution.\n",
    "        mean2 (float): Mean of the second normal distribution.\n",
    "        variance2 (float): Variance of the second normal distribution.\n",
    "        size2 (int): Number of samples to generate from the second distribution.\n",
    "\n",
    "    Returns:\n",
    "        samples1 (numpy array): Random samples from the first normal distribution.\n",
    "        samples2 (numpy array): Random samples from the second normal distribution.\n",
    "    \"\"\"\n",
    "    samples1 = np.random.normal(mean1, np.sqrt(variance1), size1)\n",
    "    samples2 = np.random.normal(mean2, np.sqrt(variance2), size2)\n",
    "    return samples1, samples2\n",
    "\n",
    "def f_test(samples1, samples2):\n",
    "    \"\"\"\n",
    "    Performs the F-test to compare the variances of two normal distributions.\n",
    "\n",
    "    Parameters:\n",
    "        samples1 (numpy array): Random samples from the first normal distribution.\n",
    "        samples2 (numpy array): Random samples from the second normal distribution.\n",
    "\n",
    "    Returns:\n",
    "        f_value (float): The F-value calculated for the variance ratio test.\n",
    "        df_num (int): Degrees of freedom for the numerator.\n",
    "        df_den (int): Degrees of freedom for the denominator.\n",
    "        p_value (float): The p-value associated with the F-value.\n",
    "    \"\"\"\n",
    "    df_num = len(samples1) - 1\n",
    "    df_den = len(samples2) - 1\n",
    "\n",
    "    f_value = np.var(samples1, ddof=1) / np.var(samples2, ddof=1)\n",
    "    p_value = f.sf(f_value, df_num, df_den) * 2  # Two-tailed test\n",
    "\n",
    "    return f_value, df_num, df_den, p_value\n",
    "\n",
    "# Parameters for generating random samples\n",
    "mean1 = 10.0\n",
    "variance1 = 4.0\n",
    "size1 = 30\n",
    "mean2 = 10.5\n",
    "variance2 = 4.0\n",
    "size2 = 25\n",
    "\n",
    "# Generate random samples from the two normal distributions\n",
    "samples1, samples2 = generate_samples(mean1, variance1, size1, mean2, variance2, size2)\n",
    "\n",
    "# Perform the F-test\n",
    "f_value, df_num, df_den, p_value = f_test(samples1, samples2)\n",
    "\n",
    "# Output the results\n",
    "print(\"Sample 1:\", samples1)\n",
    "print(\"Sample 2:\", samples2)\n",
    "print(\"F-value:\", f_value)\n",
    "print(\"Degrees of freedom (numerator):\", df_num)\n",
    "print(\"Degrees of freedom (denominator):\", df_den)\n",
    "print(\"p-value:\", p_value)\n"
   ]
  },
  {
   "cell_type": "markdown",
   "id": "cb991d76-cb01-4ae9-ba70-9cad8dcfae10",
   "metadata": {},
   "source": [
    "Q4.The variances of two populations are known to be 10 and 15. A sample of 12 observations is taken from each population. Conduct an F-test at the 5% significance level to determine if the variances are significantly different.\n",
    "\n",
    "\n",
    "Answer(Q4):\n",
    "\n",
    "To conduct an F-test at the 5% significance level to determine if the variances of two populations are significantly different, we'll follow these steps:\n",
    "\n",
    "1. Define the null and alternative hypotheses.\n",
    "2. Calculate the F-statistic.\n",
    "3. Determine the critical F-value.\n",
    "4. Compare the F-statistic with the critical F-value and make a decision.\n",
    "\n",
    "Let's perform these steps in Python:\n"
   ]
  },
  {
   "cell_type": "code",
   "execution_count": 3,
   "id": "affc4c70-3891-45c9-a95a-9e3eab1e5515",
   "metadata": {},
   "outputs": [
    {
     "name": "stdout",
     "output_type": "stream",
     "text": [
      "Fail to reject the null hypothesis: Variances are not significantly different.\n"
     ]
    }
   ],
   "source": [
    "from scipy.stats import f\n",
    "\n",
    "def f_test(variance1, variance2, sample_size1, sample_size2, significance_level):\n",
    "    \"\"\"\n",
    "    Performs the F-test to compare the variances of two populations.\n",
    "\n",
    "    Parameters:\n",
    "        variance1 (float): Variance of the first population.\n",
    "        variance2 (float): Variance of the second population.\n",
    "        sample_size1 (int): Sample size of the first population.\n",
    "        sample_size2 (int): Sample size of the second population.\n",
    "        significance_level (float): Desired significance level for the test.\n",
    "\n",
    "    Returns:\n",
    "        result (str): The result of the F-test.\n",
    "    \"\"\"\n",
    "    df_num = sample_size1 - 1\n",
    "    df_den = sample_size2 - 1\n",
    "\n",
    "    f_value = variance1 / variance2\n",
    "    critical_f = f.ppf(1 - significance_level / 2, df_num, df_den)\n",
    "\n",
    "    if f_value > critical_f or f_value < 1 / critical_f:\n",
    "        result = \"Reject the null hypothesis: Variances are significantly different.\"\n",
    "    else:\n",
    "        result = \"Fail to reject the null hypothesis: Variances are not significantly different.\"\n",
    "\n",
    "    return result\n",
    "\n",
    "# Given data\n",
    "variance1 = 10\n",
    "variance2 = 15\n",
    "sample_size1 = 12\n",
    "sample_size2 = 12\n",
    "significance_level = 0.05\n",
    "\n",
    "# Perform the F-test\n",
    "result = f_test(variance1, variance2, sample_size1, sample_size2, significance_level)\n",
    "\n",
    "# Output the result\n",
    "print(result)"
   ]
  },
  {
   "cell_type": "markdown",
   "id": "09d5b820-939d-49c0-a7c8-fe119143ae45",
   "metadata": {},
   "source": [
    "In this code, we define the `f_test` function to conduct the F-test. We calculate the F-value by dividing the larger variance by the smaller variance. Then, we calculate the critical F-value using the `f.ppf` function for a two-tailed test at the desired significance level.\n",
    "\n",
    "Finally, we compare the F-value with the critical F-value and make a decision based on whether the F-value is larger or smaller than the critical value. If the F-value is greater than the critical value or smaller than the reciprocal of the critical value, we reject the null hypothesis, indicating that the variances are significantly different. Otherwise, we fail to reject the null hypothesis, suggesting that the variances are not significantly different."
   ]
  },
  {
   "cell_type": "markdown",
   "id": "5d0f4782-045f-4fb3-8e2c-785a2fc2fb8f",
   "metadata": {},
   "source": [
    "Q5. A manufacturer claims that the variance of the diameter of a certain product is 0.005. A sample of 25 products is taken, and the sample variance is found to be 0.006. Conduct an F-test at the 1% significance level to determine if the claim is justified.\n",
    "\n",
    "Answer(Q5):\n",
    "\n",
    "To conduct an F-test at the 1% significance level and determine if the manufacturer's claim about the variance of the product diameter is justified, we'll follow the steps outlined below:\n",
    "\n",
    "1. Define the null and alternative hypotheses.\n",
    "2. Calculate the F-statistic.\n",
    "3. Determine the critical F-value.\n",
    "4. Compare the F-statistic with the critical F-value and make a decision.\n",
    "\n",
    "Let's perform these steps in Python:\n",
    "\n"
   ]
  },
  {
   "cell_type": "code",
   "execution_count": 4,
   "id": "7965a351-b2e8-445c-886b-7e5a3523cf42",
   "metadata": {},
   "outputs": [
    {
     "name": "stdout",
     "output_type": "stream",
     "text": [
      "Fail to reject the null hypothesis: The claim is justified.\n"
     ]
    }
   ],
   "source": [
    "from scipy.stats import f\n",
    "\n",
    "def f_test(sample_variance, claimed_variance, sample_size, significance_level):\n",
    "    \"\"\"\n",
    "    Performs the F-test to compare the sample variance with the claimed variance.\n",
    "\n",
    "    Parameters:\n",
    "        sample_variance (float): Sample variance of the product diameter.\n",
    "        claimed_variance (float): The manufacturer's claimed variance.\n",
    "        sample_size (int): Sample size.\n",
    "        significance_level (float): Desired significance level for the test.\n",
    "\n",
    "    Returns:\n",
    "        result (str): The result of the F-test.\n",
    "    \"\"\"\n",
    "    df_num = sample_size - 1\n",
    "    df_den = sample_size\n",
    "\n",
    "    f_value = sample_variance / claimed_variance\n",
    "    critical_f = f.ppf(1 - significance_level, df_num, df_den)\n",
    "\n",
    "    if f_value > critical_f:\n",
    "        result = \"Reject the null hypothesis: The claim is not justified.\"\n",
    "    else:\n",
    "        result = \"Fail to reject the null hypothesis: The claim is justified.\"\n",
    "\n",
    "    return result\n",
    "\n",
    "# Given data\n",
    "claimed_variance = 0.005\n",
    "sample_variance = 0.006\n",
    "sample_size = 25\n",
    "significance_level = 0.01\n",
    "\n",
    "# Perform the F-test\n",
    "result = f_test(sample_variance, claimed_variance, sample_size, significance_level)\n",
    "\n",
    "# Output the result\n",
    "print(result)\n"
   ]
  },
  {
   "cell_type": "markdown",
   "id": "d59646ea-631f-4861-8586-396074cbe116",
   "metadata": {},
   "source": [
    "In this code, we define the `f_test` function to conduct the F-test. We calculate the F-value by dividing the sample variance by the claimed variance. Then, we calculate the critical F-value using the `f.ppf` function for a one-tailed test at the desired significance level.\n",
    "\n",
    "Finally, we compare the F-value with the critical F-value and make a decision based on whether the F-value is greater than the critical value. If the F-value is larger, we reject the null hypothesis, indicating that the manufacturer's claim is not justified. Otherwise, we fail to reject the null hypothesis, suggesting that the claim is justified at the 1% significance level."
   ]
  },
  {
   "cell_type": "markdown",
   "id": "97bf30fa-95fb-4312-80df-fcbf01708c0c",
   "metadata": {},
   "source": [
    "Q6. Write a Python function that takes in the degrees of freedom for the numerator and denominator of an F-distribution and calculates the mean and variance of the distribution. The function should return the mean and variance as a tuple.\n",
    "\n",
    "Answer(Q6):\n",
    "\n",
    "To calculate the mean and variance of an F-distribution given the degrees of freedom for the numerator and denominator, you can use the properties of the F-distribution. The mean and variance of the F-distribution depend on the degrees of freedom.\n",
    "\n",
    "Here's a Python function that accomplishes this:"
   ]
  },
  {
   "cell_type": "code",
   "execution_count": null,
   "id": "a244c56d-7559-42bb-b7f8-128d0ed7869b",
   "metadata": {},
   "outputs": [],
   "source": [
    "def f_distribution_mean_variance(df_num, df_den):\n",
    "    \"\"\"\n",
    "    Calculates the mean and variance of an F-distribution.\n",
    "\n",
    "    Parameters:\n",
    "        df_num (int): Degrees of freedom for the numerator.\n",
    "        df_den (int): Degrees of freedom for the denominator.\n",
    "\n",
    "    Returns:\n",
    "        mean (float): The mean of the F-distribution.\n",
    "        variance (float): The variance of the F-distribution.\n",
    "    \"\"\"\n",
    "    # Check if degrees of freedom are valid\n",
    "    if df_num <= 0 or df_den <= 0:\n",
    "        raise ValueError(\"Degrees of freedom must be greater than 0.\")\n",
    "\n",
    "    # Calculate the mean and variance of the F-distribution\n",
    "    if df_den > 2:\n",
    "        mean = df_den / (df_den - 2)\n",
    "        variance = (2 * (df_den**2) * (df_num + df_den - 2)) / ((df_num * (df_den - 2)**2 * (df_den - 4)))\n",
    "    else:\n",
    "        mean = float('inf')  # When df_den <= 2, the mean is not defined (it approaches infinity)\n",
    "        variance = float('inf')  # When df_den <= 2, the variance is not defined (it approaches infinity)\n",
    "\n",
    "    return mean, variance\n",
    "\n",
    "# Example usage:\n",
    "df_num = 3\n",
    "df_den = 20\n",
    "mean, variance = f_distribution_mean_variance(df_num, df_den)\n",
    "print(\"Mean:\", mean)\n",
    "print(\"Variance:\", variance)\n",
    "\n"
   ]
  },
  {
   "cell_type": "markdown",
   "id": "11cb7871-44c6-4797-9ec3-c18447b68685",
   "metadata": {},
   "source": [
    "\n",
    "In this function, we first check if the provided degrees of freedom are valid (greater than 0) since negative or zero degrees of freedom are not meaningful for the F-distribution.\n",
    "\n",
    "Then, we calculate the mean and variance of the F-distribution using the formulas:\n",
    "\n",
    "- Mean (μ) = df_den / (df_den - 2) when df_den > 2\n",
    "- Variance (σ^2) = (2 * (df_den^2) * (df_num + df_den - 2)) / (df_num * (df_den - 2)^2 * (df_den - 4)) when df_den > 4\n",
    "\n",
    "For cases when df_den is less than or equal to 2, the mean and variance are not defined (approach infinity). In such cases, we set the mean and variance to `float('inf')`.\n",
    "\n",
    "Note: The function assumes that the degrees of freedom provided are appropriate for calculating the mean and variance of the F-distribution."
   ]
  },
  {
   "cell_type": "markdown",
   "id": "9105d826-f26a-40b1-92f5-7c11072feb37",
   "metadata": {},
   "source": [
    "Q7. A random sample of 10 measurements is taken from a normal population with unknown variance. The sample variance is found to be 25. Another random sample of 15 measurements is taken from another normal population with unknown variance, and the sample variance is found to be 20. Conduct an F-test at the 10% significance level to determine if the variances are significantly different.\n",
    "\n",
    "\n",
    "Answer(Q7):\n",
    "\n",
    "To conduct an F-test at the 10% significance level and determine if the variances of the two populations are significantly different, we'll follow these steps:\n",
    "\n",
    "1. Define the null and alternative hypotheses.\n",
    "2. Calculate the F-statistic.\n",
    "3. Determine the critical F-value.\n",
    "4. Compare the F-statistic with the critical F-value and make a decision.\n",
    "\n",
    "Let's perform these steps in Python:\n",
    "\n"
   ]
  },
  {
   "cell_type": "code",
   "execution_count": 5,
   "id": "c88ef4d3-2a18-43c3-b943-82f1ac0f80e9",
   "metadata": {},
   "outputs": [
    {
     "name": "stdout",
     "output_type": "stream",
     "text": [
      "Fail to reject the null hypothesis: Variances are not significantly different.\n"
     ]
    }
   ],
   "source": [
    "from scipy.stats import f\n",
    "\n",
    "def f_test(sample_variance1, sample_variance2, sample_size1, sample_size2, significance_level):\n",
    "    \"\"\"\n",
    "    Performs the F-test to compare the sample variances of two populations.\n",
    "\n",
    "    Parameters:\n",
    "        sample_variance1 (float): Sample variance of the first population.\n",
    "        sample_variance2 (float): Sample variance of the second population.\n",
    "        sample_size1 (int): Sample size of the first population.\n",
    "        sample_size2 (int): Sample size of the second population.\n",
    "        significance_level (float): Desired significance level for the test.\n",
    "\n",
    "    Returns:\n",
    "        result (str): The result of the F-test.\n",
    "    \"\"\"\n",
    "    df_num = sample_size1 - 1\n",
    "    df_den = sample_size2 - 1\n",
    "\n",
    "    f_value = sample_variance1 / sample_variance2\n",
    "    critical_f = f.ppf(1 - significance_level, df_num, df_den)\n",
    "\n",
    "    if f_value > critical_f or f_value < 1 / critical_f:\n",
    "        result = \"Reject the null hypothesis: Variances are significantly different.\"\n",
    "    else:\n",
    "        result = \"Fail to reject the null hypothesis: Variances are not significantly different.\"\n",
    "\n",
    "    return result\n",
    "\n",
    "# Given data\n",
    "sample_variance1 = 25\n",
    "sample_variance2 = 20\n",
    "sample_size1 = 10\n",
    "sample_size2 = 15\n",
    "significance_level = 0.10\n",
    "\n",
    "# Perform the F-test\n",
    "result = f_test(sample_variance1, sample_variance2, sample_size1, sample_size2, significance_level)\n",
    "\n",
    "# Output the result\n",
    "print(result)\n",
    "\n"
   ]
  },
  {
   "cell_type": "markdown",
   "id": "d1bf8301-518a-47df-a47d-a50da626b32d",
   "metadata": {},
   "source": [
    "\n",
    "In this code, we define the `f_test` function to conduct the F-test. We calculate the F-value by dividing the larger sample variance by the smaller sample variance. Then, we calculate the critical F-value using the `f.ppf` function for a one-tailed test at the desired significance level.\n",
    "\n",
    "Finally, we compare the F-value with the critical F-value and make a decision based on whether the F-value is larger than the critical value or smaller than the reciprocal of the critical value. If the F-value is greater or smaller, we reject the null hypothesis, indicating that the variances are significantly different. Otherwise, we fail to reject the null hypothesis, suggesting that the variances are not significantly different at the 10% significance level."
   ]
  },
  {
   "cell_type": "markdown",
   "id": "9f47fdf3-b4f8-48da-af09-1b70d30f87b4",
   "metadata": {},
   "source": [
    "Q8. The following data represent the waiting times in minutes at two different restaurants on a Saturday night: Restaurant A: 24, 25, 28, 23, 22, 20, 27; Restaurant B: 31, 33, 35, 30, 32, 36. Conduct an F-test at the 5% significance level to determine if the variances are significantly different.\n",
    "\n",
    "Answer(Q8):\n",
    "\n",
    "To conduct an F-test at the 5% significance level and determine if the variances of the waiting times at Restaurant A and Restaurant B are significantly different, we'll follow these steps:\n",
    "\n",
    "1. Define the null and alternative hypotheses.\n",
    "2. Calculate the F-statistic.\n",
    "3. Determine the critical F-value.\n",
    "4. Compare the F-statistic with the critical F-value and make a decision.\n",
    "\n",
    "Let's perform these steps in Python:\n",
    "\n"
   ]
  },
  {
   "cell_type": "code",
   "execution_count": 7,
   "id": "59330b77-0856-4805-8e79-b13973a0fbf9",
   "metadata": {},
   "outputs": [
    {
     "name": "stdout",
     "output_type": "stream",
     "text": [
      "Fail to reject the null hypothesis: Variances are not significantly different.\n"
     ]
    }
   ],
   "source": [
    "import numpy as np\n",
    "from scipy.stats import f\n",
    "\n",
    "def f_test(sample1, sample2, significance_level):\n",
    "    \"\"\"\n",
    "    Performs the F-test to compare the sample variances of two samples.\n",
    "\n",
    "    Parameters:\n",
    "        sample1 (list): List of waiting times at Restaurant A.\n",
    "        sample2 (list): List of waiting times at Restaurant B.\n",
    "        significance_level (float): Desired significance level for the test.\n",
    "\n",
    "    Returns:\n",
    "        result (str): The result of the F-test.\n",
    "    \"\"\"\n",
    "    sample_size1 = len(sample1)\n",
    "    sample_size2 = len(sample2)\n",
    "    df_num = sample_size1 - 1\n",
    "    df_den = sample_size2 - 1\n",
    "\n",
    "    sample_variance1 = np.var(sample1, ddof=1)\n",
    "    sample_variance2 = np.var(sample2, ddof=1)\n",
    "\n",
    "    f_value = sample_variance1 / sample_variance2\n",
    "    critical_f = f.ppf(1 - significance_level, df_num, df_den)\n",
    "\n",
    "    if f_value > critical_f or f_value < 1 / critical_f:\n",
    "        result = \"Reject the null hypothesis: Variances are significantly different.\"\n",
    "    else:\n",
    "        result = \"Fail to reject the null hypothesis: Variances are not significantly different.\"\n",
    "\n",
    "    return result\n",
    "\n",
    "# Given data\n",
    "sample1 = [24, 25, 28, 23, 22, 20, 27]\n",
    "sample2 = [31, 33, 35, 30, 32, 36]\n",
    "significance_level = 0.05\n",
    "\n",
    "# Perform the F-test\n",
    "result = f_test(sample1, sample2, significance_level)\n",
    "\n",
    "# Output the result\n",
    "print(result)\n"
   ]
  },
  {
   "cell_type": "markdown",
   "id": "de10b021-591d-4893-90ea-6681f946b8c8",
   "metadata": {},
   "source": [
    "\n",
    "\n",
    "In this code, we define the `f_test` function to conduct the F-test. We calculate the F-value by dividing the sample variance of Restaurant A by the sample variance of Restaurant B. Then, we calculate the critical F-value using the `f.ppf` function for a one-tailed test at the desired significance level.\n",
    "\n",
    "Finally, we compare the F-value with the critical F-value and make a decision based on whether the F-value is greater or smaller than the critical value. If the F-value is larger or smaller, we reject the null hypothesis, indicating that the variances are significantly different. Otherwise, we fail to reject the null hypothesis, suggesting that the variances are not significantly different at the 5% significance level."
   ]
  },
  {
   "cell_type": "markdown",
   "id": "f5bae783-17af-4024-9397-9931d45b0455",
   "metadata": {},
   "source": [
    "Q9. The following data represent the test scores of two groups of students: Group A: 80, 85, 90, 92, 87, 83; Group B: 75, 78, 82, 79, 81, 84. Conduct an F-test at the 1% significance level to determine if the variances are significantly different.\n",
    "\n",
    "Answer(Q9):\n",
    "\n",
    "To conduct an F-test at the 1% significance level and determine if the variances of the test scores for Group A and Group B are significantly different, we'll follow these steps:\n",
    "\n",
    "1. Define the null and alternative hypotheses.\n",
    "2. Calculate the F-statistic.\n",
    "3. Determine the critical F-value.\n",
    "4. Compare the F-statistic with the critical F-value and make a decision.\n",
    "\n",
    "Let's perform these steps in Python:\n"
   ]
  },
  {
   "cell_type": "code",
   "execution_count": 6,
   "id": "8f7cd84b-c224-408a-b721-92f0e1d267ed",
   "metadata": {},
   "outputs": [
    {
     "name": "stdout",
     "output_type": "stream",
     "text": [
      "Fail to reject the null hypothesis: Variances are not significantly different.\n"
     ]
    }
   ],
   "source": [
    "import numpy as np\n",
    "from scipy.stats import f\n",
    "\n",
    "def f_test(sample1, sample2, significance_level):\n",
    "    \"\"\"\n",
    "    Performs the F-test to compare the sample variances of two samples.\n",
    "\n",
    "    Parameters:\n",
    "        sample1 (list): List of test scores for Group A.\n",
    "        sample2 (list): List of test scores for Group B.\n",
    "        significance_level (float): Desired significance level for the test.\n",
    "\n",
    "    Returns:\n",
    "        result (str): The result of the F-test.\n",
    "    \"\"\"\n",
    "    sample_size1 = len(sample1)\n",
    "    sample_size2 = len(sample2)\n",
    "    df_num = sample_size1 - 1\n",
    "    df_den = sample_size2 - 1\n",
    "\n",
    "    sample_variance1 = np.var(sample1, ddof=1)\n",
    "    sample_variance2 = np.var(sample2, ddof=1)\n",
    "\n",
    "    f_value = sample_variance1 / sample_variance2\n",
    "    critical_f = f.ppf(1 - significance_level, df_num, df_den)\n",
    "\n",
    "    if f_value > critical_f or f_value < 1 / critical_f:\n",
    "        result = \"Reject the null hypothesis: Variances are significantly different.\"\n",
    "    else:\n",
    "        result = \"Fail to reject the null hypothesis: Variances are not significantly different.\"\n",
    "\n",
    "    return result\n",
    "\n",
    "# Given data\n",
    "groupA_scores = [80, 85, 90, 92, 87, 83]\n",
    "groupB_scores = [75, 78, 82, 79, 81, 84]\n",
    "significance_level = 0.01\n",
    "\n",
    "# Perform the F-test\n",
    "result = f_test(groupA_scores, groupB_scores, significance_level)\n",
    "\n",
    "# Output the result\n",
    "print(result)\n"
   ]
  },
  {
   "cell_type": "markdown",
   "id": "0c677527-74ad-4075-a844-099d43b9d5b0",
   "metadata": {},
   "source": [
    "\n",
    "In this code, we define the `f_test` function to conduct the F-test. We calculate the F-value by dividing the sample variance of Group A by the sample variance of Group B. Then, we calculate the critical F-value using the `f.ppf` function for a one-tailed test at the desired significance level.\n",
    "\n",
    "Finally, we compare the F-value with the critical F-value and make a decision based on whether the F-value is greater or smaller than the critical value. If the F-value is larger or smaller, we reject the null hypothesis, indicating that the variances are significantly different. Otherwise, we fail to reject the null hypothesis, suggesting that the variances are not significantly different at the 1% significance level."
   ]
  }
 ],
 "metadata": {
  "kernelspec": {
   "display_name": "Python 3 (ipykernel)",
   "language": "python",
   "name": "python3"
  },
  "language_info": {
   "codemirror_mode": {
    "name": "ipython",
    "version": 3
   },
   "file_extension": ".py",
   "mimetype": "text/x-python",
   "name": "python",
   "nbconvert_exporter": "python",
   "pygments_lexer": "ipython3",
   "version": "3.10.8"
  }
 },
 "nbformat": 4,
 "nbformat_minor": 5
}
